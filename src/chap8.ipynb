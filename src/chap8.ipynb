{
 "cells": [
  {
   "cell_type": "markdown",
   "id": "16ebbed4",
   "metadata": {},
   "source": [
    "# 다층 퍼셉트론 XOR 문제 해결 코드\n"
   ]
  },
  {
   "cell_type": "markdown",
   "id": "e8e8088a",
   "metadata": {},
   "source": [
    "## XOR 문제 해결 및 다층 퍼셉트론\n",
    "\n",
    "- 초반에 미국의 학자가 인간의 뉴런을 본따 퍼셉트론 모델을 만듦\n",
    "- 이걸로 인공지능이 대박날줄 알았는데 XOR 문제를 해결 못했음\n",
    "- 그래서 층을 나눠서 해보자는 발상으로 XOR 문제를 해결했음"
   ]
  },
  {
   "cell_type": "code",
   "execution_count": 2,
   "id": "c8b028f0",
   "metadata": {},
   "outputs": [],
   "source": [
    "# XOR 문제 해결 코드\n",
    "\n",
    "import numpy as np\n",
    "\n",
    "w11 = np.array([-2,-2])\n",
    "w12 = np.array([2,2])\n",
    "w2 = np.array([1,1])\n",
    "b1 = 3\n",
    "b2 = -1\n",
    "b3 = -1\n",
    "\n"
   ]
  },
  {
   "cell_type": "code",
   "execution_count": 12,
   "id": "18b8c33c",
   "metadata": {},
   "outputs": [],
   "source": [
    "def MLP(x, w, b):\n",
    "    y = np.sum(w * x) + b\n",
    "    if y<=0:\n",
    "        return 0\n",
    "    else:\n",
    "        return 1\n",
    "\n",
    "\n",
    "def NAND(x1, x2):\n",
    "    return MLP(np.array([x1,x2]), w11, b1)\n",
    "\n",
    "def OR(x1, x2):\n",
    "    return MLP(np.array([x1,x2]), w12, b2)\n",
    "\n",
    "def AND(x1, x2):\n",
    "    return MLP(np.array([x1,x2]), w2, b3)\n",
    "\n",
    "def XOR(x1, x2):\n",
    "    return AND(NAND(x1, x2), OR(x1, x2))\n"
   ]
  },
  {
   "cell_type": "code",
   "execution_count": 13,
   "id": "41ff4641",
   "metadata": {},
   "outputs": [
    {
     "name": "stdout",
     "output_type": "stream",
     "text": [
      "입력 값: (0, 0) 출력 값: 0\n",
      "입력 값: (1, 0) 출력 값: 1\n",
      "입력 값: (0, 1) 출력 값: 1\n",
      "입력 값: (1, 1) 출력 값: 0\n"
     ]
    }
   ],
   "source": [
    "for x in [(0, 0), (1, 0), (0, 1), (1, 1)]:\n",
    "    y = XOR(x[0], x[1])\n",
    "    print(\"입력 값: \" + str(x) + \" 출력 값: \" + str(y))"
   ]
  }
 ],
 "metadata": {
  "kernelspec": {
   "display_name": "base",
   "language": "python",
   "name": "python3"
  },
  "language_info": {
   "codemirror_mode": {
    "name": "ipython",
    "version": 3
   },
   "file_extension": ".py",
   "mimetype": "text/x-python",
   "name": "python",
   "nbconvert_exporter": "python",
   "pygments_lexer": "ipython3",
   "version": "3.12.7"
  }
 },
 "nbformat": 4,
 "nbformat_minor": 5
}
