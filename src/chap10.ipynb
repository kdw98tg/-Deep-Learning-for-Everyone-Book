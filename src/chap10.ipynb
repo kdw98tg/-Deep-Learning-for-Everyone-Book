{
 "cells": [
  {
   "cell_type": "markdown",
   "id": "b85849b2",
   "metadata": {},
   "source": [
    "# 10. 딥러닝 모델 설계하기 "
   ]
  },
  {
   "cell_type": "markdown",
   "id": "246ffd50",
   "metadata": {},
   "source": [
    "## 환자 데이터 딥러닝 모델 만들기 \n"
   ]
  },
  {
   "cell_type": "code",
   "execution_count": null,
   "id": "aaf37b36",
   "metadata": {},
   "outputs": [],
   "source": [
    "# 딥러닝에서는 출력층과 은닉층들을 차곡차곡 추가하면서 학습시키는것임\n",
    "# keras 에서는 Sequential 이라는 함수를 통해 쉽게 구현 할 수 있음\n",
    "from tensorflow.keras.models import Sequential \n",
    "from tensorflow.keras.layers import Dense   \n",
    "\n",
    "# 데이터를 다루는 데 필요한 라이브러리를 불러옵니다.\n",
    "import numpy as np"
   ]
  },
  {
   "cell_type": "code",
   "execution_count": 5,
   "id": "58a289fc",
   "metadata": {},
   "outputs": [],
   "source": [
    "\n",
    "# 준비된 수술 환자 데이터를 불러옵니다.\n",
    "Data_set = np.loadtxt(\"../data/ThoraricSurgery3.csv\", delimiter=\",\")  \n",
    "X = Data_set[:,0:16]    # 환자의 진찰 기록을 X로 지정합니다.\n",
    "y = Data_set[:,16]      # 수술 1년 후 사망/생존 여부를 y로 지정합니다."
   ]
  },
  {
   "cell_type": "code",
   "execution_count": null,
   "id": "cebe1cc2",
   "metadata": {},
   "outputs": [
    {
     "name": "stderr",
     "output_type": "stream",
     "text": [
      "c:\\Users\\window11\\anaconda3\\Lib\\site-packages\\keras\\src\\layers\\core\\dense.py:87: UserWarning: Do not pass an `input_shape`/`input_dim` argument to a layer. When using Sequential models, prefer using an `Input(shape)` object as the first layer in the model instead.\n",
      "  super().__init__(activity_regularizer=activity_regularizer, **kwargs)\n"
     ]
    }
   ],
   "source": [
    "# Sequential을 생성하고, model에 add를 통해서 2개의 층을 넣음. \n",
    "# 결국 이 모델은 층을 두개 가진 모델이라는것을 알 수 있음\n",
    "model = Sequential()                              \n",
    "# Dense 의 함수 인자에 몇개의 노드를 이 층에 만들 것인지 숫자를 적어줌\n",
    "# input_dim 을 설정하면, 여기서는 환자의 데이터 열이 16개 이므로, 16개를 설정해서 함\n",
    "# 따라서 아래 코드는 데이터에서 값을 16개를 받아서, 은닉층의 노드 30개로 보낸다는 의미임\n",
    "model.add(Dense(units = 30, input_dim=16, activation='relu')) # 나머지는 모두 은닉층이 됨\n",
    "model.add(Dense(1, activation='sigmoid')) # 맨 마지막은 출력을 하는 출력층임, 1개의 노드로 결과가 나와서 units = 1 인거고, sigmoid 활성화 함수로 결과를 낼거임"
   ]
  },
  {
   "cell_type": "code",
   "execution_count": null,
   "id": "eac4741c",
   "metadata": {},
   "outputs": [
    {
     "name": "stdout",
     "output_type": "stream",
     "text": [
      "Epoch 1/5\n",
      "\u001b[1m30/30\u001b[0m \u001b[32m━━━━━━━━━━━━━━━━━━━━\u001b[0m\u001b[37m\u001b[0m \u001b[1m0s\u001b[0m 947us/step - accuracy: 0.8267 - loss: 0.7120 \n",
      "Epoch 2/5\n",
      "\u001b[1m30/30\u001b[0m \u001b[32m━━━━━━━━━━━━━━━━━━━━\u001b[0m\u001b[37m\u001b[0m \u001b[1m0s\u001b[0m 829us/step - accuracy: 0.8806 - loss: 0.4050\n",
      "Epoch 3/5\n",
      "\u001b[1m30/30\u001b[0m \u001b[32m━━━━━━━━━━━━━━━━━━━━\u001b[0m\u001b[37m\u001b[0m \u001b[1m0s\u001b[0m 798us/step - accuracy: 0.8500 - loss: 0.4623\n",
      "Epoch 4/5\n",
      "\u001b[1m30/30\u001b[0m \u001b[32m━━━━━━━━━━━━━━━━━━━━\u001b[0m\u001b[37m\u001b[0m \u001b[1m0s\u001b[0m 797us/step - accuracy: 0.8668 - loss: 0.4182\n",
      "Epoch 5/5\n",
      "\u001b[1m30/30\u001b[0m \u001b[32m━━━━━━━━━━━━━━━━━━━━\u001b[0m\u001b[37m\u001b[0m \u001b[1m0s\u001b[0m 828us/step - accuracy: 0.8554 - loss: 0.4286\n"
     ]
    }
   ],
   "source": [
    "# 딥러닝 모델을 실행합니다.\n",
    "# 손실함수, 옵티마이저 (경사하강법 같이 최솟값을 찾는 방법), 모델 성능을 평가할 때 정확도\n",
    "model.compile(loss='binary_crossentropy', optimizer='adam', metrics=['accuracy']) \n",
    "\n",
    "# 학습 프로세스가 모든 샘플에 대해 한번 실행되는 것을 1epoch 라고 함.\n",
    "# 코드에서 epochs = 5로 지정한 것은 각 샘플이 처음부터 끝까지 다섯 번 재사용 될때까지 실행을 반복하라는 의미임\n",
    "# batch_size = 16은 전체 470개의 샘플을 16개씩 끊어서 집어넣으라는 의미임\n",
    "# 이게 너무 크면 학습 속도가 너무 느려지고, 각 실행값의 편차가 커져서 전체 결과가 불안정해질 수 있음\n",
    "history=model.fit(X, y, epochs=5, batch_size=16)"
   ]
  },
  {
   "cell_type": "code",
   "execution_count": null,
   "id": "d7465db3",
   "metadata": {},
   "outputs": [],
   "source": []
  },
  {
   "cell_type": "code",
   "execution_count": null,
   "id": "b28a0d50",
   "metadata": {},
   "outputs": [],
   "source": []
  }
 ],
 "metadata": {
  "kernelspec": {
   "display_name": "base",
   "language": "python",
   "name": "python3"
  },
  "language_info": {
   "codemirror_mode": {
    "name": "ipython",
    "version": 3
   },
   "file_extension": ".py",
   "mimetype": "text/x-python",
   "name": "python",
   "nbconvert_exporter": "python",
   "pygments_lexer": "ipython3",
   "version": "3.12.7"
  }
 },
 "nbformat": 4,
 "nbformat_minor": 5
}
