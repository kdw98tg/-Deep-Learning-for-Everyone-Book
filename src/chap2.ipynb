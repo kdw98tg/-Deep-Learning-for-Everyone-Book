{
 "cells": [
  {
   "cell_type": "markdown",
   "id": "fd46b2f8",
   "metadata": {},
   "source": [
    "# 2장 딥러닝 핵심 미리보기\n"
   ]
  },
  {
   "cell_type": "markdown",
   "id": "182b603f",
   "metadata": {},
   "source": [
    "## 10장 페암 수술 환자의 생존율 예측 코드 미리보기\n"
   ]
  },
  {
   "cell_type": "markdown",
   "id": "b08e301b",
   "metadata": {},
   "source": [
    "### 1. 환경 준비\n",
    "- tensorflow 사용\n",
    "- tensorflow는 구글이 개발한 오픈소스 머신러닝 프레임워크임\n",
    "- 주로 딥러닝 모델을 만들고 학습시키는데 사용됨\n",
    "- 텐서플로우는 좀 어려운 면이 있어서 그걸 쉽게 해주는게 keras API 임"
   ]
  },
  {
   "cell_type": "code",
   "execution_count": 1,
   "id": "6323db03",
   "metadata": {},
   "outputs": [],
   "source": [
    "\n",
    "from tensorflow.keras.models import Sequential # 텐서플로우의 케라스라는 API에 있는 model 클래수로부터 Sequential 함수를 불러오라는 뜻\n",
    "from tensorflow.keras.layers import Dense # 이하동일\n",
    "import numpy as np"
   ]
  },
  {
   "cell_type": "markdown",
   "id": "39ca2159",
   "metadata": {},
   "source": [
    "### 2. 데이터 준비\n"
   ]
  },
  {
   "cell_type": "code",
   "execution_count": 2,
   "id": "ffe1ffcf",
   "metadata": {},
   "outputs": [],
   "source": [
    "# 데이터를 보면 1~16번째 열은 종양의 유형, 폐활량, 호흡 곤란 여부, 고통 정도 등등 이고, 17번째는 그래서 사망했냐 살았냐를 나타내는 데이터임\n",
    "# 1~16번쨰 열을 attribute(속성)이라고 하고, 17번쨰열을 class(클래스)라고 함\n",
    "# 결국 해당 모델은 종양의 유형, 폐활량, 호흡곤란 여부등의 증상을 보유 하거나 보유하지 않았을 때의 생존율을 계산하는 모델임\n",
    "Data_set = np.loadtxt(\"../data/ThoraricSurgery3.csv\", delimiter=\",\")\n",
    "# [행:열] \n",
    "\n",
    "# 보통 X에는 여러개의 속성이 담기기 때문에 대문자로, y는 클래스 하나의 원소만 담기기 때문에 소문자 y로 씀\n",
    "X = Data_set[:,0:16] # 모든 행에 대해 0~15번쨰 열까지 선택함\n",
    "y = Data_set[:,16] # 모든 행에 대해 16번쨰 열만 추출\n"
   ]
  },
  {
   "cell_type": "markdown",
   "id": "8b05c820",
   "metadata": {},
   "source": [
    "### 3. 구조 결정\n",
    "- 딥러닝을 설계한다는 것은 결국 몇개의 층을 어떻게 쌓을지, Dense 외에 어떤 층을 사용할지, 내부의 변수들을 어떻게 정해야 하는지 등에 대해 고민하는것임 \n",
    "- 대게 어떤 데이터를 가지고 무엇을 할 것인지에 따라 딥러닝의 설계가 결정됨\n",
    "- 따라서 각 설정과 변수의 의미를 알고 이것을 자유롭게 구성할 수 있는지가 딥러닝을 잘 다루는지 여부를 결정하는 것것\n"
   ]
  },
  {
   "cell_type": "code",
   "execution_count": 3,
   "id": "3addc978",
   "metadata": {},
   "outputs": [
    {
     "name": "stderr",
     "output_type": "stream",
     "text": [
      "/Users/kimdongwoo/-Deep-Learning-for-Everyone-Book/myenv/lib/python3.12/site-packages/keras/src/layers/core/dense.py:87: UserWarning: Do not pass an `input_shape`/`input_dim` argument to a layer. When using Sequential models, prefer using an `Input(shape)` object as the first layer in the model instead.\n",
      "  super().__init__(activity_regularizer=activity_regularizer, **kwargs)\n"
     ]
    }
   ],
   "source": [
    "model = Sequential()# 딥러닝 모델은 여러층으로 나눠져 있음. 딥러닝의 한층 한층을 add() 함수로 추가하게 해줌\n",
    "# Dense 함수는 각 층의 입력과 출력을 촘촘하게 모두 연결하라는 뜻임\n",
    "\n",
    "model.add(Dense(30, input_dim=16, activation=\"relu\"))\n",
    "model.add(Dense(1, activation=\"sigmoid\"))\n",
    "\n"
   ]
  },
  {
   "cell_type": "code",
   "execution_count": 4,
   "id": "478d1165",
   "metadata": {},
   "outputs": [
    {
     "name": "stdout",
     "output_type": "stream",
     "text": [
      "Epoch 1/5\n",
      "\u001b[1m30/30\u001b[0m \u001b[32m━━━━━━━━━━━━━━━━━━━━\u001b[0m\u001b[37m\u001b[0m \u001b[1m0s\u001b[0m 701us/step - accuracy: 0.8668 - loss: 1.2267\n",
      "Epoch 2/5\n",
      "\u001b[1m30/30\u001b[0m \u001b[32m━━━━━━━━━━━━━━━━━━━━\u001b[0m\u001b[37m\u001b[0m \u001b[1m0s\u001b[0m 656us/step - accuracy: 0.8099 - loss: 0.5258\n",
      "Epoch 3/5\n",
      "\u001b[1m30/30\u001b[0m \u001b[32m━━━━━━━━━━━━━━━━━━━━\u001b[0m\u001b[37m\u001b[0m \u001b[1m0s\u001b[0m 599us/step - accuracy: 0.8769 - loss: 0.3753\n",
      "Epoch 4/5\n",
      "\u001b[1m30/30\u001b[0m \u001b[32m━━━━━━━━━━━━━━━━━━━━\u001b[0m\u001b[37m\u001b[0m \u001b[1m0s\u001b[0m 562us/step - accuracy: 0.8562 - loss: 0.4161\n",
      "Epoch 5/5\n",
      "\u001b[1m30/30\u001b[0m \u001b[32m━━━━━━━━━━━━━━━━━━━━\u001b[0m\u001b[37m\u001b[0m \u001b[1m0s\u001b[0m 571us/step - accuracy: 0.8600 - loss: 0.3931\n"
     ]
    }
   ],
   "source": [
    "model.compile(loss=\"binary_crossentropy\", optimizer=\"adam\", metrics=[\"accuracy\"])\n",
    "history = model.fit(X,y,epochs=5, batch_size=16)"
   ]
  },
  {
   "cell_type": "code",
   "execution_count": null,
   "id": "3a9f6212",
   "metadata": {},
   "outputs": [],
   "source": []
  }
 ],
 "metadata": {
  "kernelspec": {
   "display_name": "base",
   "language": "python",
   "name": "python3"
  },
  "language_info": {
   "codemirror_mode": {
    "name": "ipython",
    "version": 3
   },
   "file_extension": ".py",
   "mimetype": "text/x-python",
   "name": "python",
   "nbconvert_exporter": "python",
   "pygments_lexer": "ipython3",
   "version": "3.12.7"
  }
 },
 "nbformat": 4,
 "nbformat_minor": 5
}
